{
  "nbformat": 4,
  "nbformat_minor": 0,
  "metadata": {
    "colab": {
      "name": "Collaborative_Filtering_v2_final.ipynb",
      "provenance": []
    },
    "kernelspec": {
      "name": "python3",
      "display_name": "Python 3"
    }
  },
  "cells": [
    {
      "cell_type": "markdown",
      "metadata": {
        "id": "mhMs79KZ8vqr",
        "colab_type": "text"
      },
      "source": [
        "**Anime Recommendation System via Collaborative Filtering**\n",
        "\n",
        "MSCI 623 Project Spring 2020"
      ]
    },
    {
      "cell_type": "code",
      "metadata": {
        "id": "b1mt44ryB1py",
        "colab_type": "code",
        "colab": {
          "base_uri": "https://localhost:8080/",
          "height": 159
        },
        "outputId": "f7858f14-4dd2-4976-bf15-9994d864f2f3"
      },
      "source": [
        "#Importing the colab drive library to get the dataset\n",
        "import numpy as np\n",
        "import pandas as pd\n",
        "import matplotlib.pyplot as plt\n",
        "import re\n",
        "import seaborn as sns\n",
        "import scipy as sp\n",
        "from google.colab import drive\n",
        "%matplotlib inline\n",
        "from sklearn.metrics.pairwise import cosine_similarity\n",
        "import operator\n",
        "drive.mount('/content/drive')"
      ],
      "execution_count": null,
      "outputs": [
        {
          "output_type": "stream",
          "text": [
            "/usr/local/lib/python3.6/dist-packages/statsmodels/tools/_testing.py:19: FutureWarning: pandas.util.testing is deprecated. Use the functions in the public API at pandas.testing instead.\n",
            "  import pandas.util.testing as tm\n"
          ],
          "name": "stderr"
        },
        {
          "output_type": "stream",
          "text": [
            "Go to this URL in a browser: https://accounts.google.com/o/oauth2/auth?client_id=947318989803-6bn6qk8qdgf4n4g3pfee6491hc0brc4i.apps.googleusercontent.com&redirect_uri=urn%3aietf%3awg%3aoauth%3a2.0%3aoob&response_type=code&scope=email%20https%3a%2f%2fwww.googleapis.com%2fauth%2fdocs.test%20https%3a%2f%2fwww.googleapis.com%2fauth%2fdrive%20https%3a%2f%2fwww.googleapis.com%2fauth%2fdrive.photos.readonly%20https%3a%2f%2fwww.googleapis.com%2fauth%2fpeopleapi.readonly\n",
            "\n",
            "Enter your authorization code:\n",
            "··········\n",
            "Mounted at /content/drive\n"
          ],
          "name": "stdout"
        }
      ]
    },
    {
      "cell_type": "markdown",
      "metadata": {
        "id": "uyDZEKi26xSP",
        "colab_type": "text"
      },
      "source": [
        "**Importing Data**"
      ]
    },
    {
      "cell_type": "code",
      "metadata": {
        "id": "LYIvZpXqB6Ee",
        "colab_type": "code",
        "colab": {
          "base_uri": "https://localhost:8080/",
          "height": 202
        },
        "outputId": "95446880-a7ad-4892-931d-c5a59733b306"
      },
      "source": [
        "#Importing the required  rating dataset as well as anime dataset\n",
        "dataset=pd.read_csv(\"/content/drive/My Drive/Anime_Recommend_System/anime_updated.csv\")\n",
        "rating =pd.read_csv(\"/content/drive/My Drive/Anime_Recommend_System/rating.csv\")\n",
        "rating.head()"
      ],
      "execution_count": null,
      "outputs": [
        {
          "output_type": "execute_result",
          "data": {
            "text/html": [
              "<div>\n",
              "<style scoped>\n",
              "    .dataframe tbody tr th:only-of-type {\n",
              "        vertical-align: middle;\n",
              "    }\n",
              "\n",
              "    .dataframe tbody tr th {\n",
              "        vertical-align: top;\n",
              "    }\n",
              "\n",
              "    .dataframe thead th {\n",
              "        text-align: right;\n",
              "    }\n",
              "</style>\n",
              "<table border=\"1\" class=\"dataframe\">\n",
              "  <thead>\n",
              "    <tr style=\"text-align: right;\">\n",
              "      <th></th>\n",
              "      <th>user_id</th>\n",
              "      <th>anime_id</th>\n",
              "      <th>rating</th>\n",
              "    </tr>\n",
              "  </thead>\n",
              "  <tbody>\n",
              "    <tr>\n",
              "      <th>0</th>\n",
              "      <td>1</td>\n",
              "      <td>20</td>\n",
              "      <td>-1</td>\n",
              "    </tr>\n",
              "    <tr>\n",
              "      <th>1</th>\n",
              "      <td>1</td>\n",
              "      <td>24</td>\n",
              "      <td>-1</td>\n",
              "    </tr>\n",
              "    <tr>\n",
              "      <th>2</th>\n",
              "      <td>1</td>\n",
              "      <td>79</td>\n",
              "      <td>-1</td>\n",
              "    </tr>\n",
              "    <tr>\n",
              "      <th>3</th>\n",
              "      <td>1</td>\n",
              "      <td>226</td>\n",
              "      <td>-1</td>\n",
              "    </tr>\n",
              "    <tr>\n",
              "      <th>4</th>\n",
              "      <td>1</td>\n",
              "      <td>241</td>\n",
              "      <td>-1</td>\n",
              "    </tr>\n",
              "  </tbody>\n",
              "</table>\n",
              "</div>"
            ],
            "text/plain": [
              "   user_id  anime_id  rating\n",
              "0        1        20      -1\n",
              "1        1        24      -1\n",
              "2        1        79      -1\n",
              "3        1       226      -1\n",
              "4        1       241      -1"
            ]
          },
          "metadata": {
            "tags": []
          },
          "execution_count": 2
        }
      ]
    },
    {
      "cell_type": "markdown",
      "metadata": {
        "id": "9B6-RNRS632K",
        "colab_type": "text"
      },
      "source": [
        "**Data Pre-Processing**"
      ]
    },
    {
      "cell_type": "code",
      "metadata": {
        "id": "cvqSRUBZDi9X",
        "colab_type": "code",
        "colab": {
          "base_uri": "https://localhost:8080/",
          "height": 202
        },
        "outputId": "ee20658f-85c0-4a98-b27b-ebbe9f1a4e47"
      },
      "source": [
        "# Rating dataset has ample rows which have -1 ratings , thus replacing all the -1 values with NaN\n",
        "rating.rating.replace(-1,np.nan,inplace = True)\n",
        "rating.head()"
      ],
      "execution_count": null,
      "outputs": [
        {
          "output_type": "execute_result",
          "data": {
            "text/html": [
              "<div>\n",
              "<style scoped>\n",
              "    .dataframe tbody tr th:only-of-type {\n",
              "        vertical-align: middle;\n",
              "    }\n",
              "\n",
              "    .dataframe tbody tr th {\n",
              "        vertical-align: top;\n",
              "    }\n",
              "\n",
              "    .dataframe thead th {\n",
              "        text-align: right;\n",
              "    }\n",
              "</style>\n",
              "<table border=\"1\" class=\"dataframe\">\n",
              "  <thead>\n",
              "    <tr style=\"text-align: right;\">\n",
              "      <th></th>\n",
              "      <th>user_id</th>\n",
              "      <th>anime_id</th>\n",
              "      <th>rating</th>\n",
              "    </tr>\n",
              "  </thead>\n",
              "  <tbody>\n",
              "    <tr>\n",
              "      <th>0</th>\n",
              "      <td>1</td>\n",
              "      <td>20</td>\n",
              "      <td>NaN</td>\n",
              "    </tr>\n",
              "    <tr>\n",
              "      <th>1</th>\n",
              "      <td>1</td>\n",
              "      <td>24</td>\n",
              "      <td>NaN</td>\n",
              "    </tr>\n",
              "    <tr>\n",
              "      <th>2</th>\n",
              "      <td>1</td>\n",
              "      <td>79</td>\n",
              "      <td>NaN</td>\n",
              "    </tr>\n",
              "    <tr>\n",
              "      <th>3</th>\n",
              "      <td>1</td>\n",
              "      <td>226</td>\n",
              "      <td>NaN</td>\n",
              "    </tr>\n",
              "    <tr>\n",
              "      <th>4</th>\n",
              "      <td>1</td>\n",
              "      <td>241</td>\n",
              "      <td>NaN</td>\n",
              "    </tr>\n",
              "  </tbody>\n",
              "</table>\n",
              "</div>"
            ],
            "text/plain": [
              "   user_id  anime_id  rating\n",
              "0        1        20     NaN\n",
              "1        1        24     NaN\n",
              "2        1        79     NaN\n",
              "3        1       226     NaN\n",
              "4        1       241     NaN"
            ]
          },
          "metadata": {
            "tags": []
          },
          "execution_count": 3
        }
      ]
    },
    {
      "cell_type": "code",
      "metadata": {
        "id": "AsJtA2KiDtwT",
        "colab_type": "code",
        "colab": {
          "base_uri": "https://localhost:8080/",
          "height": 202
        },
        "outputId": "0a94cd37-8b2c-47d5-f83d-ac85d992a1e3"
      },
      "source": [
        "#Since most popular types of anime are TV, Movie and OVA , filtering for those types of animes\n",
        "genre = ['TV', 'Movie','OVA']\n",
        "filtered_Dataset = dataset[dataset.type.isin(genre)]\n",
        "filtered_Dataset.head()"
      ],
      "execution_count": null,
      "outputs": [
        {
          "output_type": "execute_result",
          "data": {
            "text/html": [
              "<div>\n",
              "<style scoped>\n",
              "    .dataframe tbody tr th:only-of-type {\n",
              "        vertical-align: middle;\n",
              "    }\n",
              "\n",
              "    .dataframe tbody tr th {\n",
              "        vertical-align: top;\n",
              "    }\n",
              "\n",
              "    .dataframe thead th {\n",
              "        text-align: right;\n",
              "    }\n",
              "</style>\n",
              "<table border=\"1\" class=\"dataframe\">\n",
              "  <thead>\n",
              "    <tr style=\"text-align: right;\">\n",
              "      <th></th>\n",
              "      <th>anime_id</th>\n",
              "      <th>name</th>\n",
              "      <th>genre</th>\n",
              "      <th>type</th>\n",
              "      <th>episodes</th>\n",
              "      <th>rating</th>\n",
              "      <th>members</th>\n",
              "    </tr>\n",
              "  </thead>\n",
              "  <tbody>\n",
              "    <tr>\n",
              "      <th>0</th>\n",
              "      <td>32281</td>\n",
              "      <td>Kimi no Na wa.</td>\n",
              "      <td>Drama, Romance, School, Supernatural</td>\n",
              "      <td>Movie</td>\n",
              "      <td>1</td>\n",
              "      <td>9.37</td>\n",
              "      <td>200630</td>\n",
              "    </tr>\n",
              "    <tr>\n",
              "      <th>1</th>\n",
              "      <td>5114</td>\n",
              "      <td>Fullmetal Alchemist: Brotherhood</td>\n",
              "      <td>Action, Adventure, Drama, Fantasy, Magic, Mili...</td>\n",
              "      <td>TV</td>\n",
              "      <td>64</td>\n",
              "      <td>9.26</td>\n",
              "      <td>793665</td>\n",
              "    </tr>\n",
              "    <tr>\n",
              "      <th>2</th>\n",
              "      <td>28977</td>\n",
              "      <td>Gintama°</td>\n",
              "      <td>Action, Comedy, Historical, Parody, Samurai, S...</td>\n",
              "      <td>TV</td>\n",
              "      <td>51</td>\n",
              "      <td>9.25</td>\n",
              "      <td>114262</td>\n",
              "    </tr>\n",
              "    <tr>\n",
              "      <th>3</th>\n",
              "      <td>9253</td>\n",
              "      <td>Steins;Gate</td>\n",
              "      <td>Sci-Fi, Thriller</td>\n",
              "      <td>TV</td>\n",
              "      <td>24</td>\n",
              "      <td>9.17</td>\n",
              "      <td>673572</td>\n",
              "    </tr>\n",
              "    <tr>\n",
              "      <th>4</th>\n",
              "      <td>9969</td>\n",
              "      <td>Gintama&amp;#039;</td>\n",
              "      <td>Action, Comedy, Historical, Parody, Samurai, S...</td>\n",
              "      <td>TV</td>\n",
              "      <td>51</td>\n",
              "      <td>9.16</td>\n",
              "      <td>151266</td>\n",
              "    </tr>\n",
              "  </tbody>\n",
              "</table>\n",
              "</div>"
            ],
            "text/plain": [
              "   anime_id                              name  ... rating members\n",
              "0     32281                    Kimi no Na wa.  ...   9.37  200630\n",
              "1      5114  Fullmetal Alchemist: Brotherhood  ...   9.26  793665\n",
              "2     28977                          Gintama°  ...   9.25  114262\n",
              "3      9253                       Steins;Gate  ...   9.17  673572\n",
              "4      9969                     Gintama&#039;  ...   9.16  151266\n",
              "\n",
              "[5 rows x 7 columns]"
            ]
          },
          "metadata": {
            "tags": []
          },
          "execution_count": 4
        }
      ]
    },
    {
      "cell_type": "code",
      "metadata": {
        "id": "HBVo1nFYD3g2",
        "colab_type": "code",
        "colab": {}
      },
      "source": [
        "# Now we have to merge both the ratings and the anime dataset using merge function and we rename the column for easy name convention\n",
        "merged_dataframe = rating.merge(filtered_Dataset, left_on = 'anime_id', right_on = 'anime_id', suffixes= ['_user', ''])\n",
        "merged_dataframe.rename(columns = {'rating_user':'user_rating'}, inplace = True)"
      ],
      "execution_count": null,
      "outputs": []
    },
    {
      "cell_type": "code",
      "metadata": {
        "id": "2q-AMvDRD90s",
        "colab_type": "code",
        "colab": {
          "base_uri": "https://localhost:8080/",
          "height": 202
        },
        "outputId": "05c846a9-e906-4b3c-b750-daffde16bf2c"
      },
      "source": [
        "#We are limiting the dataframe length to 25,000 users as Google colab was running out of memory if we try to process more users\n",
        "merged_dataframe=merged_dataframe[['user_id', 'name', 'user_rating']]\n",
        "merged_sub_dataframe= merged_dataframe[merged_dataframe.user_id <= 25000]\n",
        "merged_sub_dataframe.head()"
      ],
      "execution_count": null,
      "outputs": [
        {
          "output_type": "execute_result",
          "data": {
            "text/html": [
              "<div>\n",
              "<style scoped>\n",
              "    .dataframe tbody tr th:only-of-type {\n",
              "        vertical-align: middle;\n",
              "    }\n",
              "\n",
              "    .dataframe tbody tr th {\n",
              "        vertical-align: top;\n",
              "    }\n",
              "\n",
              "    .dataframe thead th {\n",
              "        text-align: right;\n",
              "    }\n",
              "</style>\n",
              "<table border=\"1\" class=\"dataframe\">\n",
              "  <thead>\n",
              "    <tr style=\"text-align: right;\">\n",
              "      <th></th>\n",
              "      <th>user_id</th>\n",
              "      <th>name</th>\n",
              "      <th>user_rating</th>\n",
              "    </tr>\n",
              "  </thead>\n",
              "  <tbody>\n",
              "    <tr>\n",
              "      <th>0</th>\n",
              "      <td>1</td>\n",
              "      <td>Naruto</td>\n",
              "      <td>NaN</td>\n",
              "    </tr>\n",
              "    <tr>\n",
              "      <th>1</th>\n",
              "      <td>3</td>\n",
              "      <td>Naruto</td>\n",
              "      <td>8.0</td>\n",
              "    </tr>\n",
              "    <tr>\n",
              "      <th>2</th>\n",
              "      <td>5</td>\n",
              "      <td>Naruto</td>\n",
              "      <td>6.0</td>\n",
              "    </tr>\n",
              "    <tr>\n",
              "      <th>3</th>\n",
              "      <td>6</td>\n",
              "      <td>Naruto</td>\n",
              "      <td>NaN</td>\n",
              "    </tr>\n",
              "    <tr>\n",
              "      <th>4</th>\n",
              "      <td>10</td>\n",
              "      <td>Naruto</td>\n",
              "      <td>NaN</td>\n",
              "    </tr>\n",
              "  </tbody>\n",
              "</table>\n",
              "</div>"
            ],
            "text/plain": [
              "   user_id    name  user_rating\n",
              "0        1  Naruto          NaN\n",
              "1        3  Naruto          8.0\n",
              "2        5  Naruto          6.0\n",
              "3        6  Naruto          NaN\n",
              "4       10  Naruto          NaN"
            ]
          },
          "metadata": {
            "tags": []
          },
          "execution_count": 6
        }
      ]
    },
    {
      "cell_type": "code",
      "metadata": {
        "id": "os9Cp9gfEE-f",
        "colab_type": "code",
        "colab": {}
      },
      "source": [
        "#Now we need to create pivot table of the above sub-merged dataframe we acquired in the last frame, so that we get row for every user id and columns as Anime names\n",
        "pivottable = merged_sub_dataframe.pivot_table(index=['user_id'], columns=['name'], values='user_rating')"
      ],
      "execution_count": null,
      "outputs": []
    },
    {
      "cell_type": "code",
      "metadata": {
        "id": "Hokj_DVMhkA2",
        "colab_type": "code",
        "colab": {
          "base_uri": "https://localhost:8080/",
          "height": 421
        },
        "outputId": "d23eb544-29a4-4796-ed2b-b67d9ff4051b"
      },
      "source": [
        "#Checking the shape of the pivot table and viewing the top few rows of the pivot table, how it looks like\n",
        "print(pivottable.shape)\n",
        "pivottable.head()"
      ],
      "execution_count": null,
      "outputs": [
        {
          "output_type": "stream",
          "text": [
            "(23632, 7046)\n"
          ],
          "name": "stdout"
        },
        {
          "output_type": "execute_result",
          "data": {
            "text/html": [
              "<div>\n",
              "<style scoped>\n",
              "    .dataframe tbody tr th:only-of-type {\n",
              "        vertical-align: middle;\n",
              "    }\n",
              "\n",
              "    .dataframe tbody tr th {\n",
              "        vertical-align: top;\n",
              "    }\n",
              "\n",
              "    .dataframe thead th {\n",
              "        text-align: right;\n",
              "    }\n",
              "</style>\n",
              "<table border=\"1\" class=\"dataframe\">\n",
              "  <thead>\n",
              "    <tr style=\"text-align: right;\">\n",
              "      <th>name</th>\n",
              "      <th>&amp;quot;Bungaku Shoujo&amp;quot; Kyou no Oyatsu: Hatsukoi</th>\n",
              "      <th>&amp;quot;Bungaku Shoujo&amp;quot; Memoire</th>\n",
              "      <th>&amp;quot;Bungaku Shoujo&amp;quot; Movie</th>\n",
              "      <th>&amp;quot;Eiji&amp;quot;</th>\n",
              "      <th>.hack//G.U. Returner</th>\n",
              "      <th>.hack//G.U. Trilogy</th>\n",
              "      <th>.hack//Gift</th>\n",
              "      <th>.hack//Liminality</th>\n",
              "      <th>.hack//Quantum</th>\n",
              "      <th>.hack//Roots</th>\n",
              "      <th>.hack//Sign</th>\n",
              "      <th>.hack//Tasogare no Udewa Densetsu</th>\n",
              "      <th>.hack//The Movie: Sekai no Mukou ni</th>\n",
              "      <th>009 Re:Cyborg</th>\n",
              "      <th>009-1</th>\n",
              "      <th>07-Ghost</th>\n",
              "      <th>0:08</th>\n",
              "      <th>1+2=Paradise</th>\n",
              "      <th>100%</th>\n",
              "      <th>1000-nen Joou: Queen Millennia</th>\n",
              "      <th>1001 Nights</th>\n",
              "      <th>11-nin Iru!</th>\n",
              "      <th>11eyes</th>\n",
              "      <th>12-gatsu no Uta</th>\n",
              "      <th>12-sai.</th>\n",
              "      <th>12-sai.: Chicchana Mune no Tokimeki</th>\n",
              "      <th>12-sai.: Chicchana Mune no Tokimeki 2nd Season</th>\n",
              "      <th>15 Bishoujo Hyouryuuki</th>\n",
              "      <th>15 Sonyeon Uju Pyoryugi</th>\n",
              "      <th>21-ji no Onna: Newscaster Katsuragi Miki</th>\n",
              "      <th>2x1</th>\n",
              "      <th>3 Choume no Tama: Onegai! Momo-chan wo Sagashite!!</th>\n",
              "      <th>3 Choume no Tama: Uchi no Tama Shirimasenka?</th>\n",
              "      <th>3-tsu no Kumo</th>\n",
              "      <th>30-sai no Hoken Taiiku</th>\n",
              "      <th>30th Gundam Perfect Mission</th>\n",
              "      <th>3Ping Lovers!☆Ippu Nisai no Sekai e Youkoso♪ The Animation</th>\n",
              "      <th>3x3 Eyes</th>\n",
              "      <th>3x3 Eyes Seima Densetsu</th>\n",
              "      <th>663114</th>\n",
              "      <th>...</th>\n",
              "      <th>Zettai Junpaku♡Mahou Shoujo</th>\n",
              "      <th>Zettai Junshu☆Kyousei Kozukuri Kyokashou!!</th>\n",
              "      <th>Zettai Karen Children</th>\n",
              "      <th>Zettai Karen Children Gentei Kaikin!! OVA Chou Sakidori Special!!</th>\n",
              "      <th>Zettai Karen Children OVA: Aitazousei! Ubawareta Mirai?</th>\n",
              "      <th>Zettai Karen Children: The Unlimited - Hyoubu Kyousuke</th>\n",
              "      <th>Zettai Muteki Raijin-Oh</th>\n",
              "      <th>Zettai Muteki Raijin-Oh (1992)</th>\n",
              "      <th>Zettai Shougeki: Platonic Heart</th>\n",
              "      <th>Zettai Shounen</th>\n",
              "      <th>Zipang</th>\n",
              "      <th>Zoids</th>\n",
              "      <th>Zoids Fuzors</th>\n",
              "      <th>Zoids Genesis</th>\n",
              "      <th>Zoids Shinseiki/Zero</th>\n",
              "      <th>Zoku Gosenzo San&amp;#039;e</th>\n",
              "      <th>Zoku Koihime</th>\n",
              "      <th>Zoku Natsume Yuujinchou</th>\n",
              "      <th>Zoku Sayonara Zetsubou Sensei</th>\n",
              "      <th>Zombie-Loan</th>\n",
              "      <th>Zone of the Enders: Dolores, I</th>\n",
              "      <th>Zone of the Enders: Idolo</th>\n",
              "      <th>Zukkoke Knight: Don De La Mancha</th>\n",
              "      <th>Zutto Mae kara Suki deshita.: Kokuhaku Jikkou Iinkai</th>\n",
              "      <th>_Summer</th>\n",
              "      <th>eX-Driver</th>\n",
              "      <th>eX-Driver the Movie</th>\n",
              "      <th>eX-Driver: Nina &amp;amp; Rei Danger Zone</th>\n",
              "      <th>ef: A Tale of Melodies.</th>\n",
              "      <th>ef: A Tale of Memories.</th>\n",
              "      <th>gdgd Fairies</th>\n",
              "      <th>gdgd Fairies 2</th>\n",
              "      <th>gdgd Fairies Movie: tte Iu Eiga wa Dou kana...?</th>\n",
              "      <th>iDOLM@STER Xenoglossia</th>\n",
              "      <th>s.CRY.ed</th>\n",
              "      <th>xxxHOLiC</th>\n",
              "      <th>xxxHOLiC Kei</th>\n",
              "      <th>xxxHOLiC Movie: Manatsu no Yoru no Yume</th>\n",
              "      <th>xxxHOLiC Rou</th>\n",
              "      <th>xxxHOLiC Shunmuki</th>\n",
              "    </tr>\n",
              "    <tr>\n",
              "      <th>user_id</th>\n",
              "      <th></th>\n",
              "      <th></th>\n",
              "      <th></th>\n",
              "      <th></th>\n",
              "      <th></th>\n",
              "      <th></th>\n",
              "      <th></th>\n",
              "      <th></th>\n",
              "      <th></th>\n",
              "      <th></th>\n",
              "      <th></th>\n",
              "      <th></th>\n",
              "      <th></th>\n",
              "      <th></th>\n",
              "      <th></th>\n",
              "      <th></th>\n",
              "      <th></th>\n",
              "      <th></th>\n",
              "      <th></th>\n",
              "      <th></th>\n",
              "      <th></th>\n",
              "      <th></th>\n",
              "      <th></th>\n",
              "      <th></th>\n",
              "      <th></th>\n",
              "      <th></th>\n",
              "      <th></th>\n",
              "      <th></th>\n",
              "      <th></th>\n",
              "      <th></th>\n",
              "      <th></th>\n",
              "      <th></th>\n",
              "      <th></th>\n",
              "      <th></th>\n",
              "      <th></th>\n",
              "      <th></th>\n",
              "      <th></th>\n",
              "      <th></th>\n",
              "      <th></th>\n",
              "      <th></th>\n",
              "      <th></th>\n",
              "      <th></th>\n",
              "      <th></th>\n",
              "      <th></th>\n",
              "      <th></th>\n",
              "      <th></th>\n",
              "      <th></th>\n",
              "      <th></th>\n",
              "      <th></th>\n",
              "      <th></th>\n",
              "      <th></th>\n",
              "      <th></th>\n",
              "      <th></th>\n",
              "      <th></th>\n",
              "      <th></th>\n",
              "      <th></th>\n",
              "      <th></th>\n",
              "      <th></th>\n",
              "      <th></th>\n",
              "      <th></th>\n",
              "      <th></th>\n",
              "      <th></th>\n",
              "      <th></th>\n",
              "      <th></th>\n",
              "      <th></th>\n",
              "      <th></th>\n",
              "      <th></th>\n",
              "      <th></th>\n",
              "      <th></th>\n",
              "      <th></th>\n",
              "      <th></th>\n",
              "      <th></th>\n",
              "      <th></th>\n",
              "      <th></th>\n",
              "      <th></th>\n",
              "      <th></th>\n",
              "      <th></th>\n",
              "      <th></th>\n",
              "      <th></th>\n",
              "      <th></th>\n",
              "      <th></th>\n",
              "    </tr>\n",
              "  </thead>\n",
              "  <tbody>\n",
              "    <tr>\n",
              "      <th>1</th>\n",
              "      <td>NaN</td>\n",
              "      <td>NaN</td>\n",
              "      <td>NaN</td>\n",
              "      <td>NaN</td>\n",
              "      <td>NaN</td>\n",
              "      <td>NaN</td>\n",
              "      <td>NaN</td>\n",
              "      <td>NaN</td>\n",
              "      <td>NaN</td>\n",
              "      <td>NaN</td>\n",
              "      <td>NaN</td>\n",
              "      <td>NaN</td>\n",
              "      <td>NaN</td>\n",
              "      <td>NaN</td>\n",
              "      <td>NaN</td>\n",
              "      <td>NaN</td>\n",
              "      <td>NaN</td>\n",
              "      <td>NaN</td>\n",
              "      <td>NaN</td>\n",
              "      <td>NaN</td>\n",
              "      <td>NaN</td>\n",
              "      <td>NaN</td>\n",
              "      <td>NaN</td>\n",
              "      <td>NaN</td>\n",
              "      <td>NaN</td>\n",
              "      <td>NaN</td>\n",
              "      <td>NaN</td>\n",
              "      <td>NaN</td>\n",
              "      <td>NaN</td>\n",
              "      <td>NaN</td>\n",
              "      <td>NaN</td>\n",
              "      <td>NaN</td>\n",
              "      <td>NaN</td>\n",
              "      <td>NaN</td>\n",
              "      <td>NaN</td>\n",
              "      <td>NaN</td>\n",
              "      <td>NaN</td>\n",
              "      <td>NaN</td>\n",
              "      <td>NaN</td>\n",
              "      <td>NaN</td>\n",
              "      <td>...</td>\n",
              "      <td>NaN</td>\n",
              "      <td>NaN</td>\n",
              "      <td>NaN</td>\n",
              "      <td>NaN</td>\n",
              "      <td>NaN</td>\n",
              "      <td>NaN</td>\n",
              "      <td>NaN</td>\n",
              "      <td>NaN</td>\n",
              "      <td>NaN</td>\n",
              "      <td>NaN</td>\n",
              "      <td>NaN</td>\n",
              "      <td>NaN</td>\n",
              "      <td>NaN</td>\n",
              "      <td>NaN</td>\n",
              "      <td>NaN</td>\n",
              "      <td>NaN</td>\n",
              "      <td>NaN</td>\n",
              "      <td>NaN</td>\n",
              "      <td>NaN</td>\n",
              "      <td>NaN</td>\n",
              "      <td>NaN</td>\n",
              "      <td>NaN</td>\n",
              "      <td>NaN</td>\n",
              "      <td>NaN</td>\n",
              "      <td>NaN</td>\n",
              "      <td>NaN</td>\n",
              "      <td>NaN</td>\n",
              "      <td>NaN</td>\n",
              "      <td>NaN</td>\n",
              "      <td>NaN</td>\n",
              "      <td>NaN</td>\n",
              "      <td>NaN</td>\n",
              "      <td>NaN</td>\n",
              "      <td>NaN</td>\n",
              "      <td>NaN</td>\n",
              "      <td>NaN</td>\n",
              "      <td>NaN</td>\n",
              "      <td>NaN</td>\n",
              "      <td>NaN</td>\n",
              "      <td>NaN</td>\n",
              "    </tr>\n",
              "    <tr>\n",
              "      <th>2</th>\n",
              "      <td>NaN</td>\n",
              "      <td>NaN</td>\n",
              "      <td>NaN</td>\n",
              "      <td>NaN</td>\n",
              "      <td>NaN</td>\n",
              "      <td>NaN</td>\n",
              "      <td>NaN</td>\n",
              "      <td>NaN</td>\n",
              "      <td>NaN</td>\n",
              "      <td>NaN</td>\n",
              "      <td>NaN</td>\n",
              "      <td>NaN</td>\n",
              "      <td>NaN</td>\n",
              "      <td>NaN</td>\n",
              "      <td>NaN</td>\n",
              "      <td>NaN</td>\n",
              "      <td>NaN</td>\n",
              "      <td>NaN</td>\n",
              "      <td>NaN</td>\n",
              "      <td>NaN</td>\n",
              "      <td>NaN</td>\n",
              "      <td>NaN</td>\n",
              "      <td>NaN</td>\n",
              "      <td>NaN</td>\n",
              "      <td>NaN</td>\n",
              "      <td>NaN</td>\n",
              "      <td>NaN</td>\n",
              "      <td>NaN</td>\n",
              "      <td>NaN</td>\n",
              "      <td>NaN</td>\n",
              "      <td>NaN</td>\n",
              "      <td>NaN</td>\n",
              "      <td>NaN</td>\n",
              "      <td>NaN</td>\n",
              "      <td>NaN</td>\n",
              "      <td>NaN</td>\n",
              "      <td>NaN</td>\n",
              "      <td>NaN</td>\n",
              "      <td>NaN</td>\n",
              "      <td>NaN</td>\n",
              "      <td>...</td>\n",
              "      <td>NaN</td>\n",
              "      <td>NaN</td>\n",
              "      <td>NaN</td>\n",
              "      <td>NaN</td>\n",
              "      <td>NaN</td>\n",
              "      <td>NaN</td>\n",
              "      <td>NaN</td>\n",
              "      <td>NaN</td>\n",
              "      <td>NaN</td>\n",
              "      <td>NaN</td>\n",
              "      <td>NaN</td>\n",
              "      <td>NaN</td>\n",
              "      <td>NaN</td>\n",
              "      <td>NaN</td>\n",
              "      <td>NaN</td>\n",
              "      <td>NaN</td>\n",
              "      <td>NaN</td>\n",
              "      <td>NaN</td>\n",
              "      <td>NaN</td>\n",
              "      <td>NaN</td>\n",
              "      <td>NaN</td>\n",
              "      <td>NaN</td>\n",
              "      <td>NaN</td>\n",
              "      <td>NaN</td>\n",
              "      <td>NaN</td>\n",
              "      <td>NaN</td>\n",
              "      <td>NaN</td>\n",
              "      <td>NaN</td>\n",
              "      <td>NaN</td>\n",
              "      <td>NaN</td>\n",
              "      <td>NaN</td>\n",
              "      <td>NaN</td>\n",
              "      <td>NaN</td>\n",
              "      <td>NaN</td>\n",
              "      <td>NaN</td>\n",
              "      <td>NaN</td>\n",
              "      <td>NaN</td>\n",
              "      <td>NaN</td>\n",
              "      <td>NaN</td>\n",
              "      <td>NaN</td>\n",
              "    </tr>\n",
              "    <tr>\n",
              "      <th>3</th>\n",
              "      <td>NaN</td>\n",
              "      <td>NaN</td>\n",
              "      <td>NaN</td>\n",
              "      <td>NaN</td>\n",
              "      <td>NaN</td>\n",
              "      <td>NaN</td>\n",
              "      <td>NaN</td>\n",
              "      <td>NaN</td>\n",
              "      <td>NaN</td>\n",
              "      <td>NaN</td>\n",
              "      <td>NaN</td>\n",
              "      <td>NaN</td>\n",
              "      <td>NaN</td>\n",
              "      <td>NaN</td>\n",
              "      <td>NaN</td>\n",
              "      <td>NaN</td>\n",
              "      <td>NaN</td>\n",
              "      <td>NaN</td>\n",
              "      <td>NaN</td>\n",
              "      <td>NaN</td>\n",
              "      <td>NaN</td>\n",
              "      <td>NaN</td>\n",
              "      <td>NaN</td>\n",
              "      <td>NaN</td>\n",
              "      <td>NaN</td>\n",
              "      <td>NaN</td>\n",
              "      <td>NaN</td>\n",
              "      <td>NaN</td>\n",
              "      <td>NaN</td>\n",
              "      <td>NaN</td>\n",
              "      <td>NaN</td>\n",
              "      <td>NaN</td>\n",
              "      <td>NaN</td>\n",
              "      <td>NaN</td>\n",
              "      <td>NaN</td>\n",
              "      <td>NaN</td>\n",
              "      <td>NaN</td>\n",
              "      <td>NaN</td>\n",
              "      <td>NaN</td>\n",
              "      <td>NaN</td>\n",
              "      <td>...</td>\n",
              "      <td>NaN</td>\n",
              "      <td>NaN</td>\n",
              "      <td>NaN</td>\n",
              "      <td>NaN</td>\n",
              "      <td>NaN</td>\n",
              "      <td>NaN</td>\n",
              "      <td>NaN</td>\n",
              "      <td>NaN</td>\n",
              "      <td>NaN</td>\n",
              "      <td>NaN</td>\n",
              "      <td>NaN</td>\n",
              "      <td>NaN</td>\n",
              "      <td>NaN</td>\n",
              "      <td>NaN</td>\n",
              "      <td>NaN</td>\n",
              "      <td>NaN</td>\n",
              "      <td>NaN</td>\n",
              "      <td>NaN</td>\n",
              "      <td>NaN</td>\n",
              "      <td>7.0</td>\n",
              "      <td>NaN</td>\n",
              "      <td>NaN</td>\n",
              "      <td>NaN</td>\n",
              "      <td>NaN</td>\n",
              "      <td>NaN</td>\n",
              "      <td>NaN</td>\n",
              "      <td>NaN</td>\n",
              "      <td>NaN</td>\n",
              "      <td>NaN</td>\n",
              "      <td>NaN</td>\n",
              "      <td>NaN</td>\n",
              "      <td>NaN</td>\n",
              "      <td>NaN</td>\n",
              "      <td>NaN</td>\n",
              "      <td>NaN</td>\n",
              "      <td>NaN</td>\n",
              "      <td>NaN</td>\n",
              "      <td>NaN</td>\n",
              "      <td>NaN</td>\n",
              "      <td>NaN</td>\n",
              "    </tr>\n",
              "    <tr>\n",
              "      <th>5</th>\n",
              "      <td>NaN</td>\n",
              "      <td>NaN</td>\n",
              "      <td>NaN</td>\n",
              "      <td>NaN</td>\n",
              "      <td>NaN</td>\n",
              "      <td>NaN</td>\n",
              "      <td>NaN</td>\n",
              "      <td>NaN</td>\n",
              "      <td>NaN</td>\n",
              "      <td>NaN</td>\n",
              "      <td>NaN</td>\n",
              "      <td>NaN</td>\n",
              "      <td>NaN</td>\n",
              "      <td>NaN</td>\n",
              "      <td>NaN</td>\n",
              "      <td>NaN</td>\n",
              "      <td>NaN</td>\n",
              "      <td>NaN</td>\n",
              "      <td>NaN</td>\n",
              "      <td>NaN</td>\n",
              "      <td>NaN</td>\n",
              "      <td>NaN</td>\n",
              "      <td>NaN</td>\n",
              "      <td>NaN</td>\n",
              "      <td>NaN</td>\n",
              "      <td>NaN</td>\n",
              "      <td>NaN</td>\n",
              "      <td>NaN</td>\n",
              "      <td>NaN</td>\n",
              "      <td>NaN</td>\n",
              "      <td>NaN</td>\n",
              "      <td>NaN</td>\n",
              "      <td>NaN</td>\n",
              "      <td>NaN</td>\n",
              "      <td>NaN</td>\n",
              "      <td>NaN</td>\n",
              "      <td>NaN</td>\n",
              "      <td>NaN</td>\n",
              "      <td>NaN</td>\n",
              "      <td>NaN</td>\n",
              "      <td>...</td>\n",
              "      <td>NaN</td>\n",
              "      <td>NaN</td>\n",
              "      <td>NaN</td>\n",
              "      <td>NaN</td>\n",
              "      <td>NaN</td>\n",
              "      <td>NaN</td>\n",
              "      <td>NaN</td>\n",
              "      <td>NaN</td>\n",
              "      <td>NaN</td>\n",
              "      <td>NaN</td>\n",
              "      <td>NaN</td>\n",
              "      <td>NaN</td>\n",
              "      <td>NaN</td>\n",
              "      <td>NaN</td>\n",
              "      <td>NaN</td>\n",
              "      <td>NaN</td>\n",
              "      <td>NaN</td>\n",
              "      <td>NaN</td>\n",
              "      <td>7.0</td>\n",
              "      <td>NaN</td>\n",
              "      <td>NaN</td>\n",
              "      <td>NaN</td>\n",
              "      <td>NaN</td>\n",
              "      <td>NaN</td>\n",
              "      <td>NaN</td>\n",
              "      <td>NaN</td>\n",
              "      <td>NaN</td>\n",
              "      <td>NaN</td>\n",
              "      <td>NaN</td>\n",
              "      <td>NaN</td>\n",
              "      <td>NaN</td>\n",
              "      <td>NaN</td>\n",
              "      <td>NaN</td>\n",
              "      <td>NaN</td>\n",
              "      <td>NaN</td>\n",
              "      <td>2.0</td>\n",
              "      <td>NaN</td>\n",
              "      <td>NaN</td>\n",
              "      <td>NaN</td>\n",
              "      <td>NaN</td>\n",
              "    </tr>\n",
              "    <tr>\n",
              "      <th>7</th>\n",
              "      <td>NaN</td>\n",
              "      <td>NaN</td>\n",
              "      <td>NaN</td>\n",
              "      <td>NaN</td>\n",
              "      <td>NaN</td>\n",
              "      <td>NaN</td>\n",
              "      <td>NaN</td>\n",
              "      <td>NaN</td>\n",
              "      <td>NaN</td>\n",
              "      <td>NaN</td>\n",
              "      <td>NaN</td>\n",
              "      <td>NaN</td>\n",
              "      <td>NaN</td>\n",
              "      <td>NaN</td>\n",
              "      <td>NaN</td>\n",
              "      <td>NaN</td>\n",
              "      <td>NaN</td>\n",
              "      <td>NaN</td>\n",
              "      <td>NaN</td>\n",
              "      <td>NaN</td>\n",
              "      <td>NaN</td>\n",
              "      <td>NaN</td>\n",
              "      <td>NaN</td>\n",
              "      <td>NaN</td>\n",
              "      <td>NaN</td>\n",
              "      <td>NaN</td>\n",
              "      <td>NaN</td>\n",
              "      <td>NaN</td>\n",
              "      <td>NaN</td>\n",
              "      <td>NaN</td>\n",
              "      <td>NaN</td>\n",
              "      <td>NaN</td>\n",
              "      <td>NaN</td>\n",
              "      <td>NaN</td>\n",
              "      <td>NaN</td>\n",
              "      <td>NaN</td>\n",
              "      <td>NaN</td>\n",
              "      <td>NaN</td>\n",
              "      <td>NaN</td>\n",
              "      <td>NaN</td>\n",
              "      <td>...</td>\n",
              "      <td>NaN</td>\n",
              "      <td>NaN</td>\n",
              "      <td>NaN</td>\n",
              "      <td>NaN</td>\n",
              "      <td>NaN</td>\n",
              "      <td>NaN</td>\n",
              "      <td>NaN</td>\n",
              "      <td>NaN</td>\n",
              "      <td>NaN</td>\n",
              "      <td>NaN</td>\n",
              "      <td>NaN</td>\n",
              "      <td>NaN</td>\n",
              "      <td>NaN</td>\n",
              "      <td>NaN</td>\n",
              "      <td>NaN</td>\n",
              "      <td>NaN</td>\n",
              "      <td>NaN</td>\n",
              "      <td>NaN</td>\n",
              "      <td>NaN</td>\n",
              "      <td>NaN</td>\n",
              "      <td>NaN</td>\n",
              "      <td>NaN</td>\n",
              "      <td>NaN</td>\n",
              "      <td>NaN</td>\n",
              "      <td>NaN</td>\n",
              "      <td>NaN</td>\n",
              "      <td>NaN</td>\n",
              "      <td>NaN</td>\n",
              "      <td>NaN</td>\n",
              "      <td>NaN</td>\n",
              "      <td>NaN</td>\n",
              "      <td>NaN</td>\n",
              "      <td>NaN</td>\n",
              "      <td>NaN</td>\n",
              "      <td>NaN</td>\n",
              "      <td>NaN</td>\n",
              "      <td>NaN</td>\n",
              "      <td>NaN</td>\n",
              "      <td>NaN</td>\n",
              "      <td>NaN</td>\n",
              "    </tr>\n",
              "  </tbody>\n",
              "</table>\n",
              "<p>5 rows × 7046 columns</p>\n",
              "</div>"
            ],
            "text/plain": [
              "name     &quot;Bungaku Shoujo&quot; Kyou no Oyatsu: Hatsukoi  ...  xxxHOLiC Shunmuki\n",
              "user_id                                                       ...                   \n",
              "1                                                      NaN    ...                NaN\n",
              "2                                                      NaN    ...                NaN\n",
              "3                                                      NaN    ...                NaN\n",
              "5                                                      NaN    ...                NaN\n",
              "7                                                      NaN    ...                NaN\n",
              "\n",
              "[5 rows x 7046 columns]"
            ]
          },
          "metadata": {
            "tags": []
          },
          "execution_count": 8
        }
      ]
    },
    {
      "cell_type": "code",
      "metadata": {
        "id": "WpTmsQd6hmbb",
        "colab_type": "code",
        "colab": {}
      },
      "source": [
        "#Now as different users would rate differently thus we need to normalise the scores present in the pivot table\n",
        "pivot_norm = pivottable.apply(lambda x: (x-np.mean(x))/(np.max(x)-np.min(x)), axis=1)"
      ],
      "execution_count": null,
      "outputs": []
    },
    {
      "cell_type": "code",
      "metadata": {
        "id": "3rZhEnJm9dDu",
        "colab_type": "code",
        "colab": {}
      },
      "source": [
        "#Now as seen from the EDA, there are lots of unrated content in the database thus we have to remove it\n",
        "# Drop all columns containing only zeros representing users who did not rate\n",
        "pivot_norm.fillna(0, inplace=True)\n",
        "pivot_norm = pivot_norm.T\n",
        "pivot_norm = pivot_norm.loc[:,(pivot_norm!= 0).any(axis=0)]"
      ],
      "execution_count": null,
      "outputs": []
    },
    {
      "cell_type": "code",
      "metadata": {
        "id": "_nvLoR53huG0",
        "colab_type": "code",
        "colab": {}
      },
      "source": [
        "pivot_sparse = sp.sparse.csr_matrix(pivot_norm.values)  #there is lot of sparcity in the matrix"
      ],
      "execution_count": null,
      "outputs": []
    },
    {
      "cell_type": "markdown",
      "metadata": {
        "id": "AERHH1gb5MwG",
        "colab_type": "text"
      },
      "source": [
        "**Implementing Item Based Collaborative System**"
      ]
    },
    {
      "cell_type": "code",
      "metadata": {
        "id": "VW2ey5h4hyc4",
        "colab_type": "code",
        "colab": {}
      },
      "source": [
        "#We are working upon Collaborative Filtering and thus we would try making the recommendation on item based similarity\n",
        "item_similarity = cosine_similarity(pivot_sparse)"
      ],
      "execution_count": null,
      "outputs": []
    },
    {
      "cell_type": "code",
      "metadata": {
        "id": "6OEnF1qUh1-O",
        "colab_type": "code",
        "colab": {}
      },
      "source": [
        "# Inserting the similarity matricies into dataframe objects So that we can perform operations and can further start the main task of recommendation\n",
        "item_sim_df = pd.DataFrame(item_similarity, index = pivot_norm.index, columns = pivot_norm.index)"
      ],
      "execution_count": null,
      "outputs": []
    },
    {
      "cell_type": "code",
      "metadata": {
        "id": "4aK80tLOh7p0",
        "colab_type": "code",
        "colab": {}
      },
      "source": [
        "#Function to display top 10 similar animes given an anime name\n",
        "def top_animes(anime_name):\n",
        "    count = 1\n",
        "    print('Similar shows to {} include:\\n'.format(anime_name))\n",
        "    for item in item_sim_df.sort_values(by = anime_name, ascending = False).index[1:11]:\n",
        "        print('No. {}: {} '.format(count, item))\n",
        "        count +=1  "
      ],
      "execution_count": null,
      "outputs": []
    },
    {
      "cell_type": "code",
      "metadata": {
        "id": "NuUgogPiiKyU",
        "colab_type": "code",
        "colab": {
          "base_uri": "https://localhost:8080/",
          "height": 225
        },
        "outputId": "788e4372-35c5-4275-99c9-34c6ff6e4871"
      },
      "source": [
        "top_animes('Hajime no Ippo')"
      ],
      "execution_count": null,
      "outputs": [
        {
          "output_type": "stream",
          "text": [
            "Similar shows to Hajime no Ippo include:\n",
            "\n",
            "No. 1: Hajime no Ippo: New Challenger \n",
            "No. 2: Hajime no Ippo: Rising \n",
            "No. 3: Hajime no Ippo: Mashiba vs. Kimura \n",
            "No. 4: Great Teacher Onizuka \n",
            "No. 5: Hunter x Hunter (2011) \n",
            "No. 6: Major S5 \n",
            "No. 7: One Outs \n",
            "No. 8: Major S3 \n",
            "No. 9: Major S1 \n",
            "No. 10: Fullmetal Alchemist: Brotherhood \n"
          ],
          "name": "stdout"
        }
      ]
    },
    {
      "cell_type": "markdown",
      "metadata": {
        "id": "Su78_50Z5Fki",
        "colab_type": "text"
      },
      "source": [
        "**Implementing User Based Collaborative System**\n"
      ]
    },
    {
      "cell_type": "code",
      "metadata": {
        "id": "m1isvrJP5Bi8",
        "colab_type": "code",
        "colab": {}
      },
      "source": [
        "#Now we use cosine similarity function to get user similarity by inputting the transpose of our pivot sparse table\n",
        "user_similarity = cosine_similarity(pivot_sparse.T)"
      ],
      "execution_count": null,
      "outputs": []
    },
    {
      "cell_type": "code",
      "metadata": {
        "id": "qXWctFVJ5f6M",
        "colab_type": "code",
        "colab": {}
      },
      "source": [
        "#Inserting the similarity matricies into dataframe objects So that we can perform operations and can further start the main task of recommendation\n",
        "user_sim_df = pd.DataFrame(user_similarity, index = pivot_norm.columns, columns = pivot_norm.columns)"
      ],
      "execution_count": null,
      "outputs": []
    },
    {
      "cell_type": "code",
      "metadata": {
        "id": "RcQQOND9iAaI",
        "colab_type": "code",
        "colab": {}
      },
      "source": [
        "#This function will return the top 5 users with the highest similarity value \n",
        "# Input : User id  \n",
        "# Output : list of users with highest similarity\n",
        "def top_users(user):\n",
        "    \n",
        "    if user not in pivot_norm.columns:\n",
        "        return('No data available on user {}'.format(user))\n",
        "    \n",
        "    print('Most Similar Users with user {}:\\n'.format(user))\n",
        "    sim_items = user_sim_df.sort_values(by=user, ascending=False).loc[:,user].tolist()[1:11]\n",
        "    sim_users = user_sim_df.sort_values(by=user, ascending=False).index[1:11]\n",
        "    zipped = zip(sim_users, sim_items,)\n",
        "    for user, sim in zipped:\n",
        "        print('User #{0}, Similarity value: {1:.2f}'.format(user, sim)) \n"
      ],
      "execution_count": null,
      "outputs": []
    },
    {
      "cell_type": "code",
      "metadata": {
        "id": "Hx5NhrBRiIct",
        "colab_type": "code",
        "colab": {}
      },
      "source": [
        "# This function calculates the weighted average of similar users to determine a potential rating for an input user and show\n",
        "def predict_rating(anime_name, user):\n",
        "    sim_users = user_sim_df.sort_values(by=user, ascending=False).index[1:1000]\n",
        "    user_values = user_sim_df.sort_values(by=user, ascending=False).loc[:,user].tolist()[1:1000]\n",
        "    rating_list = []\n",
        "    weighted_list = []\n",
        "    for j, i in enumerate(sim_users):\n",
        "        rating = pivottable.loc[i, anime_name]\n",
        "        similarity = user_values[j]\n",
        "        if np.isnan(rating):\n",
        "            continue\n",
        "        elif not np.isnan(rating):\n",
        "            rating_list.append(rating*similarity)\n",
        "            weighted_list.append(similarity)\n",
        "    return sum(rating_list)/sum(weighted_list)   "
      ],
      "execution_count": null,
      "outputs": []
    },
    {
      "cell_type": "code",
      "metadata": {
        "id": "8X_qsd5riExM",
        "colab_type": "code",
        "colab": {}
      },
      "source": [
        "# Function to make list of highest rated animes per simiar users , returns the anime and its frequency it appears in sorted list\n",
        "def animes_per_sim_user_freq(user):\n",
        "    \n",
        "    if user not in pivot_norm.columns:\n",
        "        return(' Sorry! There is no data available on user  id {}'.format(user))\n",
        "    \n",
        "    sim_users = user_sim_df.sort_values(by=user, ascending=False).index[1:11]\n",
        "    best = []\n",
        "    most_common = {}\n",
        "    \n",
        "    for i in sim_users:\n",
        "        max_score = pivot_norm.loc[:, i].max()\n",
        "        best.append(pivot_norm[pivot_norm.loc[:, i]==max_score].index.tolist())\n",
        "    for i in range(len(best)):\n",
        "        for j in best[i]:\n",
        "            if j in most_common:\n",
        "                most_common[j] += 1\n",
        "            else:\n",
        "                most_common[j] = 1\n",
        "    sorted_list = sorted(most_common.items(), key=operator.itemgetter(1), reverse=True)\n",
        "    return sorted_list[:5]    "
      ],
      "execution_count": null,
      "outputs": []
    },
    {
      "cell_type": "code",
      "metadata": {
        "id": "0Y9KdMtriN0C",
        "colab_type": "code",
        "colab": {
          "base_uri": "https://localhost:8080/",
          "height": 225
        },
        "outputId": "3a6f992d-66c0-4b69-ad40-dc419a34a788"
      },
      "source": [
        "#Calling out top users function to find similar users based on their similarity values\n",
        "top_users(3)"
      ],
      "execution_count": null,
      "outputs": [
        {
          "output_type": "stream",
          "text": [
            "Most Similar Users with user 3:\n",
            "\n",
            "User #2986, Similarity value: 0.32\n",
            "User #14881, Similarity value: 0.32\n",
            "User #3028, Similarity value: 0.32\n",
            "User #18079, Similarity value: 0.32\n",
            "User #3681, Similarity value: 0.31\n",
            "User #20855, Similarity value: 0.31\n",
            "User #9201, Similarity value: 0.31\n",
            "User #2411, Similarity value: 0.31\n",
            "User #15062, Similarity value: 0.31\n",
            "User #12566, Similarity value: 0.30\n"
          ],
          "name": "stdout"
        }
      ]
    },
    {
      "cell_type": "code",
      "metadata": {
        "id": "CItXxi9liYbQ",
        "colab_type": "code",
        "colab": {
          "base_uri": "https://localhost:8080/",
          "height": 104
        },
        "outputId": "da9fcc99-8a8c-4682-9a43-b08ad17d8e94"
      },
      "source": [
        "#Calling out the function for user id 3\n",
        "animes_per_sim_user_freq(3)"
      ],
      "execution_count": null,
      "outputs": [
        {
          "output_type": "execute_result",
          "data": {
            "text/plain": [
              "[('Shingeki no Kyojin', 4),\n",
              " ('Sen to Chihiro no Kamikakushi', 4),\n",
              " ('Angel Beats!', 3),\n",
              " ('Clannad: After Story', 3),\n",
              " ('Steins;Gate', 3)]"
            ]
          },
          "metadata": {
            "tags": []
          },
          "execution_count": 22
        }
      ]
    },
    {
      "cell_type": "code",
      "metadata": {
        "id": "WbJXh3iDiar9",
        "colab_type": "code",
        "colab": {
          "base_uri": "https://localhost:8080/",
          "height": 35
        },
        "outputId": "d8fb4fe8-c82d-43bb-8be4-3ba9508b9b75"
      },
      "source": [
        "# Prediction of rating of  Hajime no Ippo anime by user 3\n",
        "predict_rating('Hajime no Ippo', 3)"
      ],
      "execution_count": null,
      "outputs": [
        {
          "output_type": "execute_result",
          "data": {
            "text/plain": [
              "8.862326532708229"
            ]
          },
          "metadata": {
            "tags": []
          },
          "execution_count": 23
        }
      ]
    },
    {
      "cell_type": "markdown",
      "metadata": {
        "id": "GWPfgGMg7O3d",
        "colab_type": "text"
      },
      "source": [
        "**Evaluating the Recommendation System**"
      ]
    },
    {
      "cell_type": "markdown",
      "metadata": {
        "id": "vB10YqC17byH",
        "colab_type": "text"
      },
      "source": [
        "To evaluate the system we would be looking at various user-ids and their RMSE's and would also look on coverage metric to draw out conclusions."
      ]
    },
    {
      "cell_type": "code",
      "metadata": {
        "id": "Lc8oERjTi_aM",
        "colab_type": "code",
        "colab": {}
      },
      "source": [
        "# This function would calculate the coverage for any user present in the dataset of ratings, usually coverage is percentage of the animes that he can be given recommendation.\n",
        "def  coverage (pred) :\n",
        "  pred = pred+ 0.001\n",
        "  pred = pred/predicted_sum\n",
        "  return -np.sum(pred * np.log2(pred))*100\n",
        "    "
      ],
      "execution_count": null,
      "outputs": []
    },
    {
      "cell_type": "code",
      "metadata": {
        "id": "YjwqrBskio2z",
        "colab_type": "code",
        "colab": {}
      },
      "source": [
        "#Now lets examine how the predict_rating function performs compared to the observed rated values for user 7\n",
        "\n",
        "watched = pivottable.T[pivottable.loc[7,:]>0].index.tolist()"
      ],
      "execution_count": null,
      "outputs": []
    },
    {
      "cell_type": "code",
      "metadata": {
        "id": "9nf24-01i7FZ",
        "colab_type": "code",
        "colab": {
          "base_uri": "https://localhost:8080/",
          "height": 381
        },
        "outputId": "70555c2b-b906-451e-9947-7f9f913b4f25"
      },
      "source": [
        "#Make a list of the squared errors between actual and predicted value for user id 7\n",
        "errors = []\n",
        "predicted_sum=0\n",
        "for i in watched:\n",
        "    actual=pivottable.loc[7, i]\n",
        "    predicted = predict_rating(i,7)\n",
        "    predicted_sum=predicted_sum+predicted\n",
        "    errors.append((actual-predicted)**2)"
      ],
      "execution_count": null,
      "outputs": [
        {
          "output_type": "error",
          "ename": "KeyboardInterrupt",
          "evalue": "ignored",
          "traceback": [
            "\u001b[0;31m---------------------------------------------------------------------------\u001b[0m",
            "\u001b[0;31mKeyboardInterrupt\u001b[0m                         Traceback (most recent call last)",
            "\u001b[0;32m<ipython-input-26-ea29ad13c21c>\u001b[0m in \u001b[0;36m<module>\u001b[0;34m()\u001b[0m\n\u001b[1;32m      4\u001b[0m \u001b[0;32mfor\u001b[0m \u001b[0mi\u001b[0m \u001b[0;32min\u001b[0m \u001b[0mwatched\u001b[0m\u001b[0;34m:\u001b[0m\u001b[0;34m\u001b[0m\u001b[0;34m\u001b[0m\u001b[0m\n\u001b[1;32m      5\u001b[0m     \u001b[0mactual\u001b[0m\u001b[0;34m=\u001b[0m\u001b[0mpivottable\u001b[0m\u001b[0;34m.\u001b[0m\u001b[0mloc\u001b[0m\u001b[0;34m[\u001b[0m\u001b[0;36m7\u001b[0m\u001b[0;34m,\u001b[0m \u001b[0mi\u001b[0m\u001b[0;34m]\u001b[0m\u001b[0;34m\u001b[0m\u001b[0;34m\u001b[0m\u001b[0m\n\u001b[0;32m----> 6\u001b[0;31m     \u001b[0mpredicted\u001b[0m \u001b[0;34m=\u001b[0m \u001b[0mpredict_rating\u001b[0m\u001b[0;34m(\u001b[0m\u001b[0mi\u001b[0m\u001b[0;34m,\u001b[0m\u001b[0;36m7\u001b[0m\u001b[0;34m)\u001b[0m\u001b[0;34m\u001b[0m\u001b[0;34m\u001b[0m\u001b[0m\n\u001b[0m\u001b[1;32m      7\u001b[0m     \u001b[0mpredicted_sum\u001b[0m\u001b[0;34m=\u001b[0m\u001b[0mpredicted_sum\u001b[0m\u001b[0;34m+\u001b[0m\u001b[0mpredicted\u001b[0m\u001b[0;34m\u001b[0m\u001b[0;34m\u001b[0m\u001b[0m\n\u001b[1;32m      8\u001b[0m     \u001b[0merrors\u001b[0m\u001b[0;34m.\u001b[0m\u001b[0mappend\u001b[0m\u001b[0;34m(\u001b[0m\u001b[0;34m(\u001b[0m\u001b[0mactual\u001b[0m\u001b[0;34m-\u001b[0m\u001b[0mpredicted\u001b[0m\u001b[0;34m)\u001b[0m\u001b[0;34m**\u001b[0m\u001b[0;36m2\u001b[0m\u001b[0;34m)\u001b[0m\u001b[0;34m\u001b[0m\u001b[0;34m\u001b[0m\u001b[0m\n",
            "\u001b[0;32m<ipython-input-19-1608cd2913f6>\u001b[0m in \u001b[0;36mpredict_rating\u001b[0;34m(anime_name, user)\u001b[0m\n\u001b[1;32m      1\u001b[0m \u001b[0;31m# This function calculates the weighted average of similar users to determine a potential rating for an input user and show\u001b[0m\u001b[0;34m\u001b[0m\u001b[0;34m\u001b[0m\u001b[0;34m\u001b[0m\u001b[0m\n\u001b[1;32m      2\u001b[0m \u001b[0;32mdef\u001b[0m \u001b[0mpredict_rating\u001b[0m\u001b[0;34m(\u001b[0m\u001b[0manime_name\u001b[0m\u001b[0;34m,\u001b[0m \u001b[0muser\u001b[0m\u001b[0;34m)\u001b[0m\u001b[0;34m:\u001b[0m\u001b[0;34m\u001b[0m\u001b[0;34m\u001b[0m\u001b[0m\n\u001b[0;32m----> 3\u001b[0;31m     \u001b[0msim_users\u001b[0m \u001b[0;34m=\u001b[0m \u001b[0muser_sim_df\u001b[0m\u001b[0;34m.\u001b[0m\u001b[0msort_values\u001b[0m\u001b[0;34m(\u001b[0m\u001b[0mby\u001b[0m\u001b[0;34m=\u001b[0m\u001b[0muser\u001b[0m\u001b[0;34m,\u001b[0m \u001b[0mascending\u001b[0m\u001b[0;34m=\u001b[0m\u001b[0;32mFalse\u001b[0m\u001b[0;34m)\u001b[0m\u001b[0;34m.\u001b[0m\u001b[0mindex\u001b[0m\u001b[0;34m[\u001b[0m\u001b[0;36m1\u001b[0m\u001b[0;34m:\u001b[0m\u001b[0;36m1000\u001b[0m\u001b[0;34m]\u001b[0m\u001b[0;34m\u001b[0m\u001b[0;34m\u001b[0m\u001b[0m\n\u001b[0m\u001b[1;32m      4\u001b[0m     \u001b[0muser_values\u001b[0m \u001b[0;34m=\u001b[0m \u001b[0muser_sim_df\u001b[0m\u001b[0;34m.\u001b[0m\u001b[0msort_values\u001b[0m\u001b[0;34m(\u001b[0m\u001b[0mby\u001b[0m\u001b[0;34m=\u001b[0m\u001b[0muser\u001b[0m\u001b[0;34m,\u001b[0m \u001b[0mascending\u001b[0m\u001b[0;34m=\u001b[0m\u001b[0;32mFalse\u001b[0m\u001b[0;34m)\u001b[0m\u001b[0;34m.\u001b[0m\u001b[0mloc\u001b[0m\u001b[0;34m[\u001b[0m\u001b[0;34m:\u001b[0m\u001b[0;34m,\u001b[0m\u001b[0muser\u001b[0m\u001b[0;34m]\u001b[0m\u001b[0;34m.\u001b[0m\u001b[0mtolist\u001b[0m\u001b[0;34m(\u001b[0m\u001b[0;34m)\u001b[0m\u001b[0;34m[\u001b[0m\u001b[0;36m1\u001b[0m\u001b[0;34m:\u001b[0m\u001b[0;36m1000\u001b[0m\u001b[0;34m]\u001b[0m\u001b[0;34m\u001b[0m\u001b[0;34m\u001b[0m\u001b[0m\n\u001b[1;32m      5\u001b[0m     \u001b[0mrating_list\u001b[0m \u001b[0;34m=\u001b[0m \u001b[0;34m[\u001b[0m\u001b[0;34m]\u001b[0m\u001b[0;34m\u001b[0m\u001b[0;34m\u001b[0m\u001b[0m\n",
            "\u001b[0;32m/usr/local/lib/python3.6/dist-packages/pandas/core/frame.py\u001b[0m in \u001b[0;36msort_values\u001b[0;34m(self, by, axis, ascending, inplace, kind, na_position, ignore_index)\u001b[0m\n\u001b[1;32m   4935\u001b[0m \u001b[0;34m\u001b[0m\u001b[0m\n\u001b[1;32m   4936\u001b[0m         new_data = self._data.take(\n\u001b[0;32m-> 4937\u001b[0;31m             \u001b[0mindexer\u001b[0m\u001b[0;34m,\u001b[0m \u001b[0maxis\u001b[0m\u001b[0;34m=\u001b[0m\u001b[0mself\u001b[0m\u001b[0;34m.\u001b[0m\u001b[0m_get_block_manager_axis\u001b[0m\u001b[0;34m(\u001b[0m\u001b[0maxis\u001b[0m\u001b[0;34m)\u001b[0m\u001b[0;34m,\u001b[0m \u001b[0mverify\u001b[0m\u001b[0;34m=\u001b[0m\u001b[0;32mFalse\u001b[0m\u001b[0;34m\u001b[0m\u001b[0;34m\u001b[0m\u001b[0m\n\u001b[0m\u001b[1;32m   4938\u001b[0m         )\n\u001b[1;32m   4939\u001b[0m \u001b[0;34m\u001b[0m\u001b[0m\n",
            "\u001b[0;32m/usr/local/lib/python3.6/dist-packages/pandas/core/internals/managers.py\u001b[0m in \u001b[0;36mtake\u001b[0;34m(self, indexer, axis, verify, convert)\u001b[0m\n\u001b[1;32m   1392\u001b[0m         \u001b[0mnew_labels\u001b[0m \u001b[0;34m=\u001b[0m \u001b[0mself\u001b[0m\u001b[0;34m.\u001b[0m\u001b[0maxes\u001b[0m\u001b[0;34m[\u001b[0m\u001b[0maxis\u001b[0m\u001b[0;34m]\u001b[0m\u001b[0;34m.\u001b[0m\u001b[0mtake\u001b[0m\u001b[0;34m(\u001b[0m\u001b[0mindexer\u001b[0m\u001b[0;34m)\u001b[0m\u001b[0;34m\u001b[0m\u001b[0;34m\u001b[0m\u001b[0m\n\u001b[1;32m   1393\u001b[0m         return self.reindex_indexer(\n\u001b[0;32m-> 1394\u001b[0;31m             \u001b[0mnew_axis\u001b[0m\u001b[0;34m=\u001b[0m\u001b[0mnew_labels\u001b[0m\u001b[0;34m,\u001b[0m \u001b[0mindexer\u001b[0m\u001b[0;34m=\u001b[0m\u001b[0mindexer\u001b[0m\u001b[0;34m,\u001b[0m \u001b[0maxis\u001b[0m\u001b[0;34m=\u001b[0m\u001b[0maxis\u001b[0m\u001b[0;34m,\u001b[0m \u001b[0mallow_dups\u001b[0m\u001b[0;34m=\u001b[0m\u001b[0;32mTrue\u001b[0m\u001b[0;34m\u001b[0m\u001b[0;34m\u001b[0m\u001b[0m\n\u001b[0m\u001b[1;32m   1395\u001b[0m         )\n\u001b[1;32m   1396\u001b[0m \u001b[0;34m\u001b[0m\u001b[0m\n",
            "\u001b[0;32m/usr/local/lib/python3.6/dist-packages/pandas/core/internals/managers.py\u001b[0m in \u001b[0;36mreindex_indexer\u001b[0;34m(self, new_axis, indexer, axis, fill_value, allow_dups, copy)\u001b[0m\n\u001b[1;32m   1265\u001b[0m                     ),\n\u001b[1;32m   1266\u001b[0m                 )\n\u001b[0;32m-> 1267\u001b[0;31m                 \u001b[0;32mfor\u001b[0m \u001b[0mblk\u001b[0m \u001b[0;32min\u001b[0m \u001b[0mself\u001b[0m\u001b[0;34m.\u001b[0m\u001b[0mblocks\u001b[0m\u001b[0;34m\u001b[0m\u001b[0;34m\u001b[0m\u001b[0m\n\u001b[0m\u001b[1;32m   1268\u001b[0m             ]\n\u001b[1;32m   1269\u001b[0m \u001b[0;34m\u001b[0m\u001b[0m\n",
            "\u001b[0;32m/usr/local/lib/python3.6/dist-packages/pandas/core/internals/managers.py\u001b[0m in \u001b[0;36m<listcomp>\u001b[0;34m(.0)\u001b[0m\n\u001b[1;32m   1265\u001b[0m                     ),\n\u001b[1;32m   1266\u001b[0m                 )\n\u001b[0;32m-> 1267\u001b[0;31m                 \u001b[0;32mfor\u001b[0m \u001b[0mblk\u001b[0m \u001b[0;32min\u001b[0m \u001b[0mself\u001b[0m\u001b[0;34m.\u001b[0m\u001b[0mblocks\u001b[0m\u001b[0;34m\u001b[0m\u001b[0;34m\u001b[0m\u001b[0m\n\u001b[0m\u001b[1;32m   1268\u001b[0m             ]\n\u001b[1;32m   1269\u001b[0m \u001b[0;34m\u001b[0m\u001b[0m\n",
            "\u001b[0;32m/usr/local/lib/python3.6/dist-packages/pandas/core/internals/blocks.py\u001b[0m in \u001b[0;36mtake_nd\u001b[0;34m(self, indexer, axis, new_mgr_locs, fill_tuple)\u001b[0m\n\u001b[1;32m   1295\u001b[0m \u001b[0;34m\u001b[0m\u001b[0m\n\u001b[1;32m   1296\u001b[0m         new_values = algos.take_nd(\n\u001b[0;32m-> 1297\u001b[0;31m             \u001b[0mvalues\u001b[0m\u001b[0;34m,\u001b[0m \u001b[0mindexer\u001b[0m\u001b[0;34m,\u001b[0m \u001b[0maxis\u001b[0m\u001b[0;34m=\u001b[0m\u001b[0maxis\u001b[0m\u001b[0;34m,\u001b[0m \u001b[0mallow_fill\u001b[0m\u001b[0;34m=\u001b[0m\u001b[0mallow_fill\u001b[0m\u001b[0;34m,\u001b[0m \u001b[0mfill_value\u001b[0m\u001b[0;34m=\u001b[0m\u001b[0mfill_value\u001b[0m\u001b[0;34m\u001b[0m\u001b[0;34m\u001b[0m\u001b[0m\n\u001b[0m\u001b[1;32m   1298\u001b[0m         )\n\u001b[1;32m   1299\u001b[0m \u001b[0;34m\u001b[0m\u001b[0m\n",
            "\u001b[0;32m/usr/local/lib/python3.6/dist-packages/pandas/core/algorithms.py\u001b[0m in \u001b[0;36mtake_nd\u001b[0;34m(arr, indexer, axis, out, fill_value, allow_fill)\u001b[0m\n\u001b[1;32m   1660\u001b[0m         \u001b[0marr\u001b[0m\u001b[0;34m.\u001b[0m\u001b[0mndim\u001b[0m\u001b[0;34m,\u001b[0m \u001b[0marr\u001b[0m\u001b[0;34m.\u001b[0m\u001b[0mdtype\u001b[0m\u001b[0;34m,\u001b[0m \u001b[0mout\u001b[0m\u001b[0;34m.\u001b[0m\u001b[0mdtype\u001b[0m\u001b[0;34m,\u001b[0m \u001b[0maxis\u001b[0m\u001b[0;34m=\u001b[0m\u001b[0maxis\u001b[0m\u001b[0;34m,\u001b[0m \u001b[0mmask_info\u001b[0m\u001b[0;34m=\u001b[0m\u001b[0mmask_info\u001b[0m\u001b[0;34m\u001b[0m\u001b[0;34m\u001b[0m\u001b[0m\n\u001b[1;32m   1661\u001b[0m     )\n\u001b[0;32m-> 1662\u001b[0;31m     \u001b[0mfunc\u001b[0m\u001b[0;34m(\u001b[0m\u001b[0marr\u001b[0m\u001b[0;34m,\u001b[0m \u001b[0mindexer\u001b[0m\u001b[0;34m,\u001b[0m \u001b[0mout\u001b[0m\u001b[0;34m,\u001b[0m \u001b[0mfill_value\u001b[0m\u001b[0;34m)\u001b[0m\u001b[0;34m\u001b[0m\u001b[0;34m\u001b[0m\u001b[0m\n\u001b[0m\u001b[1;32m   1663\u001b[0m \u001b[0;34m\u001b[0m\u001b[0m\n\u001b[1;32m   1664\u001b[0m     \u001b[0;32mif\u001b[0m \u001b[0mflip_order\u001b[0m\u001b[0;34m:\u001b[0m\u001b[0;34m\u001b[0m\u001b[0;34m\u001b[0m\u001b[0m\n",
            "\u001b[0;31mKeyboardInterrupt\u001b[0m: "
          ]
        }
      ]
    },
    {
      "cell_type": "code",
      "metadata": {
        "id": "dyi13ZuKi9UD",
        "colab_type": "code",
        "colab": {}
      },
      "source": [
        "#This is the average squared error for user id 7\n",
        "print(\"RMSE of user-id 7\")\n",
        "np.mean(errors)"
      ],
      "execution_count": null,
      "outputs": []
    },
    {
      "cell_type": "code",
      "metadata": {
        "id": "DWYhFLYGDscc",
        "colab_type": "code",
        "colab": {}
      },
      "source": [
        "#Calling our coverage function to know what percentage of our anime dataset can be covered by a user through our recommendation system\n",
        "coverage(predicted)"
      ],
      "execution_count": null,
      "outputs": []
    },
    {
      "cell_type": "markdown",
      "metadata": {
        "id": "WCvuXxAG9NLQ",
        "colab_type": "text"
      },
      "source": [
        "**Misc examples  of user ids and their Coverage**"
      ]
    },
    {
      "cell_type": "code",
      "metadata": {
        "id": "LK2udTwc9e5r",
        "colab_type": "code",
        "colab": {}
      },
      "source": [
        "# Calculating errors and finding RMSE for user id: 3\n",
        "watched = pivottable.T[pivottable.loc[3,:]>0].index.tolist()\n",
        "errors = []\n",
        "predicted_sum=0\n",
        "for i in watched:\n",
        "    actual=pivottable.loc[3, i]\n",
        "    predicted = predict_rating(i,3)\n",
        "    predicted_sum=predicted_sum+predicted\n",
        "    errors.append((actual-predicted)**2)\n",
        "\n",
        "print(\"RMSE of user-id 3\")\n",
        "np.mean(errors)"
      ],
      "execution_count": null,
      "outputs": []
    },
    {
      "cell_type": "code",
      "metadata": {
        "id": "o1rNVK6M9qp8",
        "colab_type": "code",
        "colab": {}
      },
      "source": [
        "#coverage for user ID: 3\n",
        "coverage(predicted)"
      ],
      "execution_count": null,
      "outputs": []
    },
    {
      "cell_type": "code",
      "metadata": {
        "id": "__sjHusBDv4T",
        "colab_type": "code",
        "colab": {}
      },
      "source": [
        "# Calculating errors and finding RMSE for user id: 43\n",
        "watched = pivottable.T[pivottable.loc[43,:]>0].index.tolist()\n",
        "errors = []\n",
        "predicted_sum=0\n",
        "for i in watched:\n",
        "    actual=pivottable.loc[43, i]\n",
        "    predicted = predict_rating(i,43)\n",
        "    predicted_sum=predicted_sum+predicted\n",
        "    errors.append((actual-predicted)**2)\n",
        "\n",
        "print(\"RMSE of user-id 43\")\n",
        "np.mean(errors)"
      ],
      "execution_count": null,
      "outputs": []
    },
    {
      "cell_type": "code",
      "metadata": {
        "id": "0zY_RbViD3HW",
        "colab_type": "code",
        "colab": {}
      },
      "source": [
        "#coverage for user ID: 43\n",
        "coverage(predicted)"
      ],
      "execution_count": null,
      "outputs": []
    },
    {
      "cell_type": "code",
      "metadata": {
        "id": "H3waTZfZD688",
        "colab_type": "code",
        "colab": {}
      },
      "source": [
        "# Calculating errors and finding RMSE for user id: 10\n",
        "watched = pivottable.T[pivottable.loc[10,:]>0].index.tolist()\n",
        "errors = []\n",
        "predicted_sum=0\n",
        "for i in watched:\n",
        "    actual=pivottable.loc[10, i]\n",
        "    predicted = predict_rating(i,10)\n",
        "    predicted_sum=predicted_sum+predicted\n",
        "    errors.append((actual-predicted)**2)\n",
        "\n",
        "print(\"RMSE of user-id 10\")\n",
        "np.mean(errors)"
      ],
      "execution_count": null,
      "outputs": []
    },
    {
      "cell_type": "code",
      "metadata": {
        "id": "F3hJpMgtHzpY",
        "colab_type": "code",
        "colab": {}
      },
      "source": [
        "#coverage for user ID: 10\n",
        "coverage(predicted)"
      ],
      "execution_count": null,
      "outputs": []
    }
  ]
}